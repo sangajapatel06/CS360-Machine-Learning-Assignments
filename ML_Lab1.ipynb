{
 "cells": [
  {
   "cell_type": "code",
   "execution_count": 22,
   "id": "364fc2f1",
   "metadata": {},
   "outputs": [],
   "source": [
    "# Numpy"
   ]
  },
  {
   "cell_type": "code",
   "execution_count": 23,
   "id": "12cdc4a5",
   "metadata": {},
   "outputs": [],
   "source": [
    "import numpy as np"
   ]
  },
  {
   "cell_type": "code",
   "execution_count": 24,
   "id": "1258a316",
   "metadata": {},
   "outputs": [],
   "source": [
    "# Q1"
   ]
  },
  {
   "cell_type": "code",
   "execution_count": 25,
   "id": "ebec7083",
   "metadata": {},
   "outputs": [
    {
     "name": "stdout",
     "output_type": "stream",
     "text": [
      "[0. 0. 0. 0. 0. 0. 0. 0. 0. 0.]\n"
     ]
    }
   ],
   "source": [
    "arr=np.zeros(10)\n",
    "print(arr)"
   ]
  },
  {
   "cell_type": "code",
   "execution_count": 26,
   "id": "5d3c37d7",
   "metadata": {},
   "outputs": [
    {
     "name": "stdout",
     "output_type": "stream",
     "text": [
      "[1. 1. 1. 1. 1. 1. 1. 1. 1. 1.]\n"
     ]
    }
   ],
   "source": [
    "arr=np.ones(10)\n",
    "print(arr)"
   ]
  },
  {
   "cell_type": "code",
   "execution_count": 27,
   "id": "740e0b2a",
   "metadata": {},
   "outputs": [
    {
     "name": "stdout",
     "output_type": "stream",
     "text": [
      "[5. 5. 5. 5. 5. 5. 5. 5. 5. 5.]\n"
     ]
    }
   ],
   "source": [
    "arr=np.ones(10)*5\n",
    "print(arr)"
   ]
  },
  {
   "cell_type": "code",
   "execution_count": 28,
   "id": "50688ba3",
   "metadata": {},
   "outputs": [],
   "source": [
    "# Q2"
   ]
  },
  {
   "cell_type": "code",
   "execution_count": 29,
   "id": "d32bb682",
   "metadata": {},
   "outputs": [
    {
     "name": "stdout",
     "output_type": "stream",
     "text": [
      "[10 12 14 16 18 20 22 24 26 28 30 32 34 36 38 40 42 44 46 48 50]\n"
     ]
    }
   ],
   "source": [
    "arr=np.arange(10,51,2)\n",
    "print(arr)"
   ]
  },
  {
   "cell_type": "code",
   "execution_count": 30,
   "id": "1a166420",
   "metadata": {},
   "outputs": [],
   "source": [
    "# Q3"
   ]
  },
  {
   "cell_type": "code",
   "execution_count": 31,
   "id": "e8010cf2",
   "metadata": {},
   "outputs": [
    {
     "name": "stdout",
     "output_type": "stream",
     "text": [
      "0.5478351376037405\n"
     ]
    }
   ],
   "source": [
    "randNum = np.random.rand()\n",
    "print(randNum)"
   ]
  },
  {
   "cell_type": "code",
   "execution_count": 32,
   "id": "1d753496",
   "metadata": {},
   "outputs": [],
   "source": [
    "# Q4"
   ]
  },
  {
   "cell_type": "code",
   "execution_count": 51,
   "id": "54ab987d",
   "metadata": {},
   "outputs": [
    {
     "name": "stdout",
     "output_type": "stream",
     "text": [
      "[[0.09664798 0.14642165 0.10788542]\n",
      " [0.19427036 0.35002438 0.34483879]\n",
      " [0.12271106 0.15310156 0.87334627]]\n",
      "After loading, content of the text file:\n",
      "[[0.096648 0.146422 0.107885]\n",
      " [0.19427  0.350024 0.344839]\n",
      " [0.122711 0.153102 0.873346]]\n"
     ]
    }
   ],
   "source": [
    "import os\n",
    "\n",
    "arr = np.random.rand(9)\n",
    "# print(arr)\n",
    "\n",
    "arr_2d=np.reshape(arr, (3,3))\n",
    "print(arr_2d)\n",
    "\n",
    "\n",
    "header = 'col1 col2 col3'\n",
    "np.savetxt('temp.txt', arr_2d, fmt=\"%f\", header=header) \n",
    "\n",
    "\n",
    "print(\"After loading, content of the text file:\")\n",
    "result = np.loadtxt('temp.txt')\n",
    "print(result)\n",
    "\n"
   ]
  },
  {
   "cell_type": "code",
   "execution_count": null,
   "id": "f54ee730",
   "metadata": {},
   "outputs": [],
   "source": []
  },
  {
   "cell_type": "code",
   "execution_count": null,
   "id": "c0419cf8",
   "metadata": {},
   "outputs": [],
   "source": []
  },
  {
   "cell_type": "code",
   "execution_count": null,
   "id": "6040921c",
   "metadata": {},
   "outputs": [],
   "source": []
  },
  {
   "cell_type": "code",
   "execution_count": null,
   "id": "cc95e522",
   "metadata": {},
   "outputs": [],
   "source": [
    "# PANDAS EXCEL"
   ]
  },
  {
   "cell_type": "code",
   "execution_count": null,
   "id": "b814913b",
   "metadata": {},
   "outputs": [],
   "source": [
    "# Q1"
   ]
  },
  {
   "cell_type": "code",
   "execution_count": 35,
   "id": "a002111b",
   "metadata": {},
   "outputs": [],
   "source": [
    "import pandas as pd"
   ]
  },
  {
   "cell_type": "code",
   "execution_count": 36,
   "id": "8797f7e3",
   "metadata": {},
   "outputs": [],
   "source": [
    "# Q1"
   ]
  },
  {
   "cell_type": "code",
   "execution_count": 59,
   "id": "6e1a2dc6",
   "metadata": {},
   "outputs": [
    {
     "name": "stdout",
     "output_type": "stream",
     "text": [
      "Image Shape:  (800, 1200, 3)\n",
      "Reshaping to 2D array: (800, 3600)\n",
      "Image shape of loaded Image : (800, 1200, 3)\n",
      "\n",
      "\n",
      "Yes The loaded matrice from CSV file is same as original image matrice\n"
     ]
    }
   ],
   "source": [
    "import pandas as pd\n",
    "import matplotlib.image as img\n",
    "import matplotlib.pyplot as plt\n",
    "image = img.imread('pokemon.jpg')\n",
    "print( \"Image Shape: \" , image.shape)\n",
    "\n",
    "if(image.shape[2] == 3) :\n",
    "  image_reshape = image.reshape(image.shape[0],-1)\n",
    "  print(\"Reshaping to 2D array:\" , image_reshape.shape)\n",
    "else:\n",
    "  # remain as it is\n",
    "  image_reshape = imageMat\n",
    "      \n",
    "# converting it to dataframe.\n",
    "mat_df = pd.DataFrame(image_reshape)\n",
    "  \n",
    "# exporting dataframe to CSV file.\n",
    "mat_df.to_csv('file.csv',\n",
    "              header = None,\n",
    "              index = None)\n",
    "loaded_df = pd.read_csv('file.csv', \n",
    "                        sep = ',',\n",
    "                        header = None)\n",
    "# getting matrice values.\n",
    "loaded_2D_mat = loaded_df.values\n",
    "  \n",
    "# reshaping it to 3D matrice\n",
    "loaded_mat = loaded_2D_mat.reshape(loaded_2D_mat.shape[0],\n",
    "                                   loaded_2D_mat.shape[1] // image.shape[2],\n",
    "                                   image.shape[2])\n",
    "  \n",
    "print(\"Image shape of loaded Image :\",\n",
    "      loaded_mat.shape)\n",
    "  \n",
    "# check if both matrice have same shape or not\n",
    "if((image == loaded_mat).all()):\n",
    "  print(\"\\n\\nYes\",\n",
    "        \"The loaded matrice from CSV file is same as original image matrice\")\n"
   ]
  },
  {
   "cell_type": "code",
   "execution_count": null,
   "id": "139f95d9",
   "metadata": {},
   "outputs": [],
   "source": [
    "#Q2"
   ]
  },
  {
   "cell_type": "code",
   "execution_count": 60,
   "id": "35ba2fb8",
   "metadata": {},
   "outputs": [
    {
     "name": "stdout",
     "output_type": "stream",
     "text": [
      "     249  225  221  249.1  225.1  221.1  249.2  225.2  221.2  249.3  ...  \\\n",
      "0    249  225  221    249    225    221    249    225    221    249  ...   \n",
      "1    249  225  221    249    225    221    249    225    221    249  ...   \n",
      "2    249  225  221    249    225    221    249    225    221    249  ...   \n",
      "3    249  225  221    249    225    221    249    225    221    249  ...   \n",
      "4    249  225  221    249    225    221    249    225    221    249  ...   \n",
      "..   ...  ...  ...    ...    ...    ...    ...    ...    ...    ...  ...   \n",
      "793  249  225  221    249    225    221    249    225    221    249  ...   \n",
      "794  249  225  221    249    225    221    249    225    221    249  ...   \n",
      "795  249  225  221    249    225    221    249    225    221    249  ...   \n",
      "796  249  225  221    249    225    221    249    225    221    249  ...   \n",
      "797  249  225  221    249    225    221    249    225    221    249  ...   \n",
      "\n",
      "     225.1196  221.1196  249.1197  225.1197  221.1197  249.1198  225.1198  \\\n",
      "0         225       221       249       225       221       249       225   \n",
      "1         225       221       249       225       221       249       225   \n",
      "2         225       221       249       225       221       249       225   \n",
      "3         225       221       249       225       221       249       225   \n",
      "4         225       221       249       225       221       249       225   \n",
      "..        ...       ...       ...       ...       ...       ...       ...   \n",
      "793       225       221       249       225       221       249       225   \n",
      "794       225       221       249       225       221       249       225   \n",
      "795       225       221       249       225       221       249       225   \n",
      "796       225       221       249       225       221       249       225   \n",
      "797       225       221       249       225       221       249       225   \n",
      "\n",
      "     221.1198  249.1199  225.1199  \n",
      "0         221       249       225  \n",
      "1         221       249       225  \n",
      "2         221       249       225  \n",
      "3         221       249       225  \n",
      "4         221       249       225  \n",
      "..        ...       ...       ...  \n",
      "793       221       249       225  \n",
      "794       221       249       225  \n",
      "795       221       249       225  \n",
      "796       221       249       225  \n",
      "797       221       249       225  \n",
      "\n",
      "[798 rows x 3599 columns]\n"
     ]
    }
   ],
   "source": [
    "mydata = pd.read_csv(\"file.csv\")\n",
    "df = pd.DataFrame(data=mydata)\n",
    "df1 = df.iloc[:-1,:-1]\n",
    "print(df1)"
   ]
  },
  {
   "cell_type": "code",
   "execution_count": null,
   "id": "d85ca7a0",
   "metadata": {},
   "outputs": [],
   "source": [
    "# Q3"
   ]
  },
  {
   "cell_type": "code",
   "execution_count": 52,
   "id": "a107c7c5",
   "metadata": {},
   "outputs": [
    {
     "name": "stdout",
     "output_type": "stream",
     "text": [
      "Today's date:\n",
      "2021-08-08 00:00:00\n"
     ]
    }
   ],
   "source": [
    "import pandas as pd\n",
    "from datetime import date\n",
    "now = pd.to_datetime(str(date.today()), format='%Y-%m-%d')\n",
    "print(\"Today's date:\")\n",
    "print(now)"
   ]
  },
  {
   "cell_type": "code",
   "execution_count": null,
   "id": "1e8c798b",
   "metadata": {},
   "outputs": [],
   "source": []
  },
  {
   "cell_type": "code",
   "execution_count": null,
   "id": "053b1477",
   "metadata": {},
   "outputs": [],
   "source": []
  },
  {
   "cell_type": "code",
   "execution_count": null,
   "id": "aa5e57e7",
   "metadata": {},
   "outputs": [],
   "source": []
  },
  {
   "cell_type": "code",
   "execution_count": null,
   "id": "6c7531d6",
   "metadata": {},
   "outputs": [],
   "source": [
    "# Q3 Age Calculator"
   ]
  },
  {
   "cell_type": "code",
   "execution_count": 55,
   "id": "6a5469c1",
   "metadata": {},
   "outputs": [
    {
     "name": "stdout",
     "output_type": "stream",
     "text": [
      "23\n"
     ]
    }
   ],
   "source": [
    "from datetime import date\n",
    "\n",
    "def age_calc(dob):\n",
    "    today = date.today()\n",
    "    return today.year - dob.year - ((today.month, today.day) < (dob.month, dob.day))\n",
    "print(age_calc(date(1998,6,10)))\n"
   ]
  },
  {
   "cell_type": "code",
   "execution_count": null,
   "id": "17afca77",
   "metadata": {},
   "outputs": [],
   "source": []
  }
 ],
 "metadata": {
  "kernelspec": {
   "display_name": "Python 3 (ipykernel)",
   "language": "python",
   "name": "python3"
  },
  "language_info": {
   "codemirror_mode": {
    "name": "ipython",
    "version": 3
   },
   "file_extension": ".py",
   "mimetype": "text/x-python",
   "name": "python",
   "nbconvert_exporter": "python",
   "pygments_lexer": "ipython3",
   "version": "3.8.6"
  }
 },
 "nbformat": 4,
 "nbformat_minor": 5
}
