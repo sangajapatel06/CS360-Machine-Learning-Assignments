{
  "nbformat": 4,
  "nbformat_minor": 0,
  "metadata": {
    "colab": {
      "name": "ML_Lab2.ipynb",
      "provenance": [],
      "collapsed_sections": []
    },
    "kernelspec": {
      "name": "python3",
      "display_name": "Python 3"
    },
    "language_info": {
      "name": "python"
    }
  },
  "cells": [
    {
      "cell_type": "code",
      "metadata": {
        "id": "g2YrSdiCIf4w"
      },
      "source": [
        "import pandas as pd\n",
        "import numpy as np\n",
        "import random"
      ],
      "execution_count": null,
      "outputs": []
    },
    {
      "cell_type": "code",
      "metadata": {
        "id": "UGVrbaSQLJ6J"
      },
      "source": [
        "# Q1\n",
        "# Write a python program to read the dataset and print the number\n",
        "# of features, number of patterns, range of output available in\n",
        "# the dataset."
      ],
      "execution_count": null,
      "outputs": []
    },
    {
      "cell_type": "code",
      "metadata": {
        "id": "FrQMxHcbIq60"
      },
      "source": [
        "data = pd.read_csv(\"/student_scores.csv\")"
      ],
      "execution_count": null,
      "outputs": []
    },
    {
      "cell_type": "code",
      "metadata": {
        "colab": {
          "base_uri": "https://localhost:8080/",
          "height": 203
        },
        "id": "c1ZFUmHnJA2j",
        "outputId": "a9ec1565-f763-4ac5-8285-9f88f67bd716"
      },
      "source": [
        "data.head()"
      ],
      "execution_count": null,
      "outputs": [
        {
          "output_type": "execute_result",
          "data": {
            "text/html": [
              "<div>\n",
              "<style scoped>\n",
              "    .dataframe tbody tr th:only-of-type {\n",
              "        vertical-align: middle;\n",
              "    }\n",
              "\n",
              "    .dataframe tbody tr th {\n",
              "        vertical-align: top;\n",
              "    }\n",
              "\n",
              "    .dataframe thead th {\n",
              "        text-align: right;\n",
              "    }\n",
              "</style>\n",
              "<table border=\"1\" class=\"dataframe\">\n",
              "  <thead>\n",
              "    <tr style=\"text-align: right;\">\n",
              "      <th></th>\n",
              "      <th>Hours</th>\n",
              "      <th>Scores</th>\n",
              "    </tr>\n",
              "  </thead>\n",
              "  <tbody>\n",
              "    <tr>\n",
              "      <th>0</th>\n",
              "      <td>2.5</td>\n",
              "      <td>21</td>\n",
              "    </tr>\n",
              "    <tr>\n",
              "      <th>1</th>\n",
              "      <td>5.1</td>\n",
              "      <td>47</td>\n",
              "    </tr>\n",
              "    <tr>\n",
              "      <th>2</th>\n",
              "      <td>3.2</td>\n",
              "      <td>27</td>\n",
              "    </tr>\n",
              "    <tr>\n",
              "      <th>3</th>\n",
              "      <td>8.5</td>\n",
              "      <td>75</td>\n",
              "    </tr>\n",
              "    <tr>\n",
              "      <th>4</th>\n",
              "      <td>3.5</td>\n",
              "      <td>30</td>\n",
              "    </tr>\n",
              "  </tbody>\n",
              "</table>\n",
              "</div>"
            ],
            "text/plain": [
              "   Hours  Scores\n",
              "0    2.5      21\n",
              "1    5.1      47\n",
              "2    3.2      27\n",
              "3    8.5      75\n",
              "4    3.5      30"
            ]
          },
          "metadata": {
            "tags": []
          },
          "execution_count": 48
        }
      ]
    },
    {
      "cell_type": "code",
      "metadata": {
        "colab": {
          "base_uri": "https://localhost:8080/"
        },
        "id": "MXp4SnwvJFit",
        "outputId": "6d473f05-d0a4-4700-d45e-17aeeb6a0635"
      },
      "source": [
        "data.columns"
      ],
      "execution_count": null,
      "outputs": [
        {
          "output_type": "execute_result",
          "data": {
            "text/plain": [
              "Index(['Hours', 'Scores'], dtype='object')"
            ]
          },
          "metadata": {
            "tags": []
          },
          "execution_count": 49
        }
      ]
    },
    {
      "cell_type": "code",
      "metadata": {
        "colab": {
          "base_uri": "https://localhost:8080/"
        },
        "id": "Da4pDq_iMvHA",
        "outputId": "1d828a99-b499-492d-d59e-f788f447dce6"
      },
      "source": [
        "# creating dataframe\n",
        "df = pd.DataFrame(data, index = None)\n",
        "  \n",
        "# computing number of rows\n",
        "rows = len(df.axes[0])\n",
        "  \n",
        "# computing number of columns\n",
        "cols = len(df.axes[1])\n",
        "  \n",
        "print(df)\n",
        "# print(data)\n",
        "print(\"Number of Rows: \", rows)\n",
        "print(\"Number of Columns: \", cols)\n",
        "\n",
        "\n",
        "print(\"Number of pattern: \", rows)\n",
        "print(\"Number of features: \", cols-1)"
      ],
      "execution_count": null,
      "outputs": [
        {
          "output_type": "stream",
          "text": [
            "    Hours  Scores\n",
            "0     2.5      21\n",
            "1     5.1      47\n",
            "2     3.2      27\n",
            "3     8.5      75\n",
            "4     3.5      30\n",
            "5     1.5      20\n",
            "6     9.2      88\n",
            "7     5.5      60\n",
            "8     8.3      81\n",
            "9     2.7      25\n",
            "10    7.7      85\n",
            "11    5.9      62\n",
            "12    4.5      41\n",
            "13    3.3      42\n",
            "14    1.1      17\n",
            "15    8.9      95\n",
            "16    2.5      30\n",
            "17    1.9      24\n",
            "18    6.1      67\n",
            "19    7.4      69\n",
            "20    2.7      30\n",
            "21    4.8      54\n",
            "22    3.8      35\n",
            "23    6.9      76\n",
            "24    7.8      86\n",
            "Number of Rows:  25\n",
            "Number of Columns:  2\n",
            "Number of pattern:  25\n",
            "Number of features:  1\n"
          ],
          "name": "stdout"
        }
      ]
    },
    {
      "cell_type": "code",
      "metadata": {
        "colab": {
          "base_uri": "https://localhost:8080/"
        },
        "id": "2q2Qkdz5JGh5",
        "outputId": "4449f607-ec34-4c03-8c2d-06f7483e77c7"
      },
      "source": [
        "data.shape"
      ],
      "execution_count": null,
      "outputs": [
        {
          "output_type": "execute_result",
          "data": {
            "text/plain": [
              "(25, 2)"
            ]
          },
          "metadata": {
            "tags": []
          },
          "execution_count": 51
        }
      ]
    },
    {
      "cell_type": "code",
      "metadata": {
        "colab": {
          "base_uri": "https://localhost:8080/"
        },
        "id": "lC34WXdLPsPK",
        "outputId": "db7ca97e-7d1e-4275-c96a-f76050e7e938"
      },
      "source": [
        "scores = data[\"Scores\"]\n",
        "maxScore = scores.max(axis=0,skipna=True)\n",
        "minScore = scores.min(axis=0,skipna=True)\n",
        "print(\"The range is = \")\n",
        "print(minScore)\n",
        "print(maxScore)"
      ],
      "execution_count": null,
      "outputs": [
        {
          "output_type": "stream",
          "text": [
            "The range is = \n",
            "17\n",
            "95\n"
          ],
          "name": "stdout"
        }
      ]
    },
    {
      "cell_type": "code",
      "metadata": {
        "id": "kM8za2UURQMz"
      },
      "source": [
        "# Q2\n",
        "# Write a program to randomly split the dataset in X:Y ratio.\n",
        "# Here, the values of X and Y are as follows (X+Y = 100% always):\n",
        "# a. X = 10:10:90 (i.e., initial: 10%, increment by 10%,\n",
        "# maximum is 90%)\n",
        "# b. Y = 90:10:10 (i.e., initial: 90%, decrement by 10%,\n",
        "# minimum is 10%)"
      ],
      "execution_count": null,
      "outputs": []
    },
    {
      "cell_type": "code",
      "metadata": {
        "colab": {
          "base_uri": "https://localhost:8080/"
        },
        "id": "pXuYyN0pS53Y",
        "outputId": "afd9f21f-bd16-4cb0-a895-b9886df31824"
      },
      "source": [
        "import pandas as pd\n",
        "import numpy as np\n",
        "import random\n",
        "n_rows = data.shape[0]\n",
        "n_cols = data.shape[1]\n",
        "\n",
        "for pct in np.arange(0.1, 1, 0.1):\n",
        "  x_num = round(pct*n_rows)\n",
        "  x_index = random.sample(range(0,n_rows), x_num)\n",
        "  y_index = []\n",
        "  for i in range(0,25):\n",
        "    if i not in x_index:\n",
        "      y_index.append(i)\n",
        "\n",
        "x_split = data.iloc[x_index]\n",
        "y_split = data.iloc[y_index]\n",
        "print('x split:\\n',x_split)\n",
        "print('y split:\\n',y_split)"
      ],
      "execution_count": null,
      "outputs": [
        {
          "output_type": "stream",
          "text": [
            "x split:\n",
            "     Hours  Scores\n",
            "6     9.2      88\n",
            "11    5.9      62\n",
            "8     8.3      81\n",
            "3     8.5      75\n",
            "24    7.8      86\n",
            "16    2.5      30\n",
            "1     5.1      47\n",
            "10    7.7      85\n",
            "7     5.5      60\n",
            "17    1.9      24\n",
            "23    6.9      76\n",
            "14    1.1      17\n",
            "4     3.5      30\n",
            "13    3.3      42\n",
            "18    6.1      67\n",
            "21    4.8      54\n",
            "22    3.8      35\n",
            "2     3.2      27\n",
            "15    8.9      95\n",
            "9     2.7      25\n",
            "5     1.5      20\n",
            "12    4.5      41\n",
            "y split:\n",
            "     Hours  Scores\n",
            "0     2.5      21\n",
            "19    7.4      69\n",
            "20    2.7      30\n"
          ],
          "name": "stdout"
        }
      ]
    },
    {
      "cell_type": "code",
      "metadata": {
        "id": "5xpFnt4yKJ-Y"
      },
      "source": [
        "# Q3\n",
        "# Write a program to calculate the row-wise,column-wise, and\n",
        "# overall mean, median, mode, and standard deviation of the\n",
        "# dataset.\n",
        "\n"
      ],
      "execution_count": null,
      "outputs": []
    },
    {
      "cell_type": "code",
      "metadata": {
        "colab": {
          "base_uri": "https://localhost:8080/"
        },
        "id": "CHANnZabNVwx",
        "outputId": "d8ac14c2-c42c-4142-e5ef-dc599dbc1f62"
      },
      "source": [
        "print(data)"
      ],
      "execution_count": null,
      "outputs": [
        {
          "output_type": "stream",
          "text": [
            "    Hours  Scores\n",
            "0     2.5      21\n",
            "1     5.1      47\n",
            "2     3.2      27\n",
            "3     8.5      75\n",
            "4     3.5      30\n",
            "5     1.5      20\n",
            "6     9.2      88\n",
            "7     5.5      60\n",
            "8     8.3      81\n",
            "9     2.7      25\n",
            "10    7.7      85\n",
            "11    5.9      62\n",
            "12    4.5      41\n",
            "13    3.3      42\n",
            "14    1.1      17\n",
            "15    8.9      95\n",
            "16    2.5      30\n",
            "17    1.9      24\n",
            "18    6.1      67\n",
            "19    7.4      69\n",
            "20    2.7      30\n",
            "21    4.8      54\n",
            "22    3.8      35\n",
            "23    6.9      76\n",
            "24    7.8      86\n"
          ],
          "name": "stdout"
        }
      ]
    },
    {
      "cell_type": "code",
      "metadata": {
        "colab": {
          "base_uri": "https://localhost:8080/"
        },
        "id": "Y2aiaYy0JORM",
        "outputId": "8b6a0c2d-a7de-4a15-e8e5-22aca7b4f7ce"
      },
      "source": [
        "print(data.mean())"
      ],
      "execution_count": null,
      "outputs": [
        {
          "output_type": "stream",
          "text": [
            "Hours      5.012\n",
            "Scores    51.480\n",
            "dtype: float64\n"
          ],
          "name": "stdout"
        },
        {
          "output_type": "execute_result",
          "data": {
            "text/plain": [
              "Hours      5.012\n",
              "Scores    51.480\n",
              "dtype: float64"
            ]
          },
          "metadata": {
            "tags": []
          },
          "execution_count": 28
        }
      ]
    },
    {
      "cell_type": "code",
      "metadata": {
        "colab": {
          "base_uri": "https://localhost:8080/"
        },
        "id": "yLp4IZjfdscV",
        "outputId": "ed4e8919-60af-4d9b-c65f-b8ac73bdc9bb"
      },
      "source": [
        "overall_mean = df.mean().mean()\n",
        "print(overall_mean)"
      ],
      "execution_count": null,
      "outputs": [
        {
          "output_type": "stream",
          "text": [
            "28.246\n"
          ],
          "name": "stdout"
        }
      ]
    },
    {
      "cell_type": "code",
      "metadata": {
        "colab": {
          "base_uri": "https://localhost:8080/"
        },
        "id": "1lY7_VU3WPIk",
        "outputId": "1a55b70b-b618-4349-94be-4f6c3698916d"
      },
      "source": [
        "row_wise = df.mean(axis=1)\n",
        "print(row_wise)"
      ],
      "execution_count": null,
      "outputs": [
        {
          "output_type": "stream",
          "text": [
            "0     11.75\n",
            "1     26.05\n",
            "2     15.10\n",
            "3     41.75\n",
            "4     16.75\n",
            "5     10.75\n",
            "6     48.60\n",
            "7     32.75\n",
            "8     44.65\n",
            "9     13.85\n",
            "10    46.35\n",
            "11    33.95\n",
            "12    22.75\n",
            "13    22.65\n",
            "14     9.05\n",
            "15    51.95\n",
            "16    16.25\n",
            "17    12.95\n",
            "18    36.55\n",
            "19    38.20\n",
            "20    16.35\n",
            "21    29.40\n",
            "22    19.40\n",
            "23    41.45\n",
            "24    46.90\n",
            "dtype: float64\n"
          ],
          "name": "stdout"
        }
      ]
    },
    {
      "cell_type": "code",
      "metadata": {
        "colab": {
          "base_uri": "https://localhost:8080/"
        },
        "id": "xhTz02SRWPWO",
        "outputId": "f471af86-3465-4352-b290-541b2abd1099"
      },
      "source": [
        "column_mean = df.mean()\n",
        "column_mean"
      ],
      "execution_count": null,
      "outputs": [
        {
          "output_type": "execute_result",
          "data": {
            "text/plain": [
              "Hours      5.012\n",
              "Scores    51.480\n",
              "dtype: float64"
            ]
          },
          "metadata": {
            "tags": []
          },
          "execution_count": 31
        }
      ]
    },
    {
      "cell_type": "code",
      "metadata": {
        "colab": {
          "base_uri": "https://localhost:8080/"
        },
        "id": "WK52h-VaJcJx",
        "outputId": "ba13fffc-9cda-490d-df32-ae4be45a5317"
      },
      "source": [
        "print(data.median())\n"
      ],
      "execution_count": null,
      "outputs": [
        {
          "output_type": "stream",
          "text": [
            "Hours      4.8\n",
            "Scores    47.0\n",
            "dtype: float64\n"
          ],
          "name": "stdout"
        }
      ]
    },
    {
      "cell_type": "code",
      "metadata": {
        "colab": {
          "base_uri": "https://localhost:8080/"
        },
        "id": "zclONi00JelA",
        "outputId": "58eb4040-4f68-45de-b223-c57ace0aee6a"
      },
      "source": [
        "print(data.mode())\n"
      ],
      "execution_count": null,
      "outputs": [
        {
          "output_type": "stream",
          "text": [
            "   Hours  Scores\n",
            "0    2.5    30.0\n",
            "1    2.7     NaN\n"
          ],
          "name": "stdout"
        }
      ]
    },
    {
      "cell_type": "code",
      "metadata": {
        "colab": {
          "base_uri": "https://localhost:8080/"
        },
        "id": "ODAPewd9J9q6",
        "outputId": "18d70a22-5d62-42fd-aa8e-b2b528435443"
      },
      "source": [
        "print(data.std())\n"
      ],
      "execution_count": null,
      "outputs": [
        {
          "output_type": "stream",
          "text": [
            "Hours      2.525094\n",
            "Scores    25.286887\n",
            "dtype: float64\n"
          ],
          "name": "stdout"
        }
      ]
    },
    {
      "cell_type": "code",
      "metadata": {
        "id": "qs2h2MhtKUqK"
      },
      "source": [
        "# Q4\n",
        "# Calculate the sum square error for polynomial curve fitting\n",
        "# problem using the dataset."
      ],
      "execution_count": null,
      "outputs": []
    },
    {
      "cell_type": "code",
      "metadata": {
        "id": "ooxYEl_UKbDa"
      },
      "source": [
        "# import numpy as np\n",
        "# sum_of_square = np.sum(np.square(rows['Scores'].to_numpy()- rows['Hours'].to_numpy()))\n",
        "# print(\"Sum of Square = {}\".format(sum_of_sqaure))"
      ],
      "execution_count": null,
      "outputs": []
    }
  ]
}